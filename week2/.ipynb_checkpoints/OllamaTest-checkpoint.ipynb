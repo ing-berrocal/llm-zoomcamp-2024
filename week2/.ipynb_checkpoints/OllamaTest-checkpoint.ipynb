{
 "cells": [
  {
   "cell_type": "code",
   "execution_count": 2,
   "id": "458ba32d-4d12-45f5-a68e-bafbbceea3ef",
   "metadata": {},
   "outputs": [],
   "source": [
    "from openai import OpenAI"
   ]
  },
  {
   "cell_type": "code",
   "execution_count": 11,
   "id": "321377ac-03e7-42c9-8956-ab46abe7db7d",
   "metadata": {},
   "outputs": [],
   "source": [
    "client = OpenAI(\n",
    "    base_url='http://127.0.0.1:11434/v1/',\n",
    "    api_key='ollama'\n",
    ")"
   ]
  },
  {
   "cell_type": "code",
   "execution_count": 15,
   "id": "498969a0-a8e7-490d-a240-91dd249da045",
   "metadata": {},
   "outputs": [],
   "source": [
    "def llm(prompt):\n",
    "    response = client.chat.completions.create(\n",
    "        #model='llama3:8b',\n",
    "        model='phi3:latest',\n",
    "        messages=[{\"role\": \"user\", \"content\": prompt}]\n",
    "    )\n",
    "    \n",
    "    return response.choices[0].message.content"
   ]
  },
  {
   "cell_type": "code",
   "execution_count": 16,
   "id": "703a0ba8-9a20-46e9-bfab-f9a76620efef",
   "metadata": {},
   "outputs": [
    {
     "data": {
      "text/plain": [
       "\"Docker and Podman are both containerization platforms that allow you to run isolated, lightweight, and portable applications. However, they have some differences in their architecture, features, and use cases.\\n\\n**1. Architecture:**\\n\\t* Docker is a software company that creates the Docker engine, a runtime environment that runs containers.\\n\\t* Podman (formerly known as rkt) is an open-source project developed by Red Hat, which provides a container runtime that's compatible with the Open Container Interface (OCI).\\n\\t* Docker relies on its own proprietary format for storing and managing containers (docker images), while Podman uses OCI-compliant formats.\\n\\n**2. Image Management:**\\n\\t* Docker has its own image registry, Docker Hub, where users can store and share their container images.\\n\\t* Podman uses the official Open Container Registry (OCR) or other standard container registries like Quay.io or Google Container Registry.\\n\\t* Podman allows you to use multiple registries simultaneously.\\n\\n**3. Security:**\\n\\t* Docker has a reputation for being less secure than Podman, mainly due to its reliance on Linux namespaces and cgroups. These can be exploited by attackers.\\n\\t* Podman uses SELinux (Security-Enhanced Linux) as its default security framework, which provides better isolation between containers.\\n\\n**4. Networking:**\\n\\t* Docker uses a proprietary networking system that's not compatible with other container runtimes.\\n\\t* Podman uses the Open Container Network Interface (OCNI) standard, which allows for seamless networking between containers and with external networks.\\n\\n**5. Support:**\\n\\t* Docker has extensive support for Windows, macOS, and Linux platforms, including official images for each environment.\\n\\t* Podman is primarily designed for Linux and supports multiple distributions, including RHEL, CentOS, Ubuntu, Debian, and others.\\n\\n**6. Compatibility:**\\n\\t* Docker is widely used in the industry, making it easier to find compatible tools and libraries.\\n\\t* Podman is gaining popularity, especially among developers who value open-source solutions and want more control over their container management.\\n\\n**7. Licensing:**\\n\\t* Docker offers both free and paid versions of its software, with a subscription-based model for advanced features.\\n\\t* Podman is an open-source project, making it completely free to use, modify, and distribute.\\n\\nIn summary:\\n\\n* Docker is a widely adopted, feature-rich containerization platform with a strong reputation in the industry, but may have some security concerns.\\n* Podman is an open-source, lightweight alternative that prioritizes security and compatibility with standard container formats. It's gaining popularity among developers who value flexibility and control over their container management.\\n\\nWhen deciding between Docker and Podman, consider your specific use case, security requirements, and the need for compatibility with other tools and platforms.\""
      ]
     },
     "execution_count": 16,
     "metadata": {},
     "output_type": "execute_result"
    }
   ],
   "source": [
    "llm(\"What's the diference between docker and podman\")"
   ]
  }
 ],
 "metadata": {
  "kernelspec": {
   "display_name": "Python 3 (ipykernel)",
   "language": "python",
   "name": "python3"
  },
  "language_info": {
   "codemirror_mode": {
    "name": "ipython",
    "version": 3
   },
   "file_extension": ".py",
   "mimetype": "text/x-python",
   "name": "python",
   "nbconvert_exporter": "python",
   "pygments_lexer": "ipython3",
   "version": "3.11.9"
  }
 },
 "nbformat": 4,
 "nbformat_minor": 5
}
