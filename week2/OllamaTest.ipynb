{
 "cells": [
  {
   "cell_type": "code",
   "execution_count": 1,
   "id": "458ba32d-4d12-45f5-a68e-bafbbceea3ef",
   "metadata": {},
   "outputs": [],
   "source": [
    "from openai import OpenAI"
   ]
  },
  {
   "cell_type": "code",
   "execution_count": 5,
   "id": "321377ac-03e7-42c9-8956-ab46abe7db7d",
   "metadata": {},
   "outputs": [],
   "source": [
    "client = OpenAI(\n",
    "    base_url='http://127.0.0.1:11434/v1/',\n",
    "    api_key='ollama'\n",
    ")"
   ]
  },
  {
   "cell_type": "code",
   "execution_count": 6,
   "id": "498969a0-a8e7-490d-a240-91dd249da045",
   "metadata": {},
   "outputs": [],
   "source": [
    "def llm(prompt):\n",
    "    response = client.chat.completions.create(\n",
    "        #model='llama3:8b',\n",
    "        model='phi3:latest',\n",
    "        messages=[{\"role\": \"user\", \"content\": prompt}]\n",
    "    )\n",
    "    \n",
    "    return response.choices[0].message.content"
   ]
  },
  {
   "cell_type": "code",
   "execution_count": 16,
   "id": "703a0ba8-9a20-46e9-bfab-f9a76620efef",
   "metadata": {},
   "outputs": [
    {
     "data": {
      "text/plain": [
       "\"Docker and Podman are both containerization platforms that allow you to run isolated, lightweight, and portable applications. However, they have some differences in their architecture, features, and use cases.\\n\\n**1. Architecture:**\\n\\t* Docker is a software company that creates the Docker engine, a runtime environment that runs containers.\\n\\t* Podman (formerly known as rkt) is an open-source project developed by Red Hat, which provides a container runtime that's compatible with the Open Container Interface (OCI).\\n\\t* Docker relies on its own proprietary format for storing and managing containers (docker images), while Podman uses OCI-compliant formats.\\n\\n**2. Image Management:**\\n\\t* Docker has its own image registry, Docker Hub, where users can store and share their container images.\\n\\t* Podman uses the official Open Container Registry (OCR) or other standard container registries like Quay.io or Google Container Registry.\\n\\t* Podman allows you to use multiple registries simultaneously.\\n\\n**3. Security:**\\n\\t* Docker has a reputation for being less secure than Podman, mainly due to its reliance on Linux namespaces and cgroups. These can be exploited by attackers.\\n\\t* Podman uses SELinux (Security-Enhanced Linux) as its default security framework, which provides better isolation between containers.\\n\\n**4. Networking:**\\n\\t* Docker uses a proprietary networking system that's not compatible with other container runtimes.\\n\\t* Podman uses the Open Container Network Interface (OCNI) standard, which allows for seamless networking between containers and with external networks.\\n\\n**5. Support:**\\n\\t* Docker has extensive support for Windows, macOS, and Linux platforms, including official images for each environment.\\n\\t* Podman is primarily designed for Linux and supports multiple distributions, including RHEL, CentOS, Ubuntu, Debian, and others.\\n\\n**6. Compatibility:**\\n\\t* Docker is widely used in the industry, making it easier to find compatible tools and libraries.\\n\\t* Podman is gaining popularity, especially among developers who value open-source solutions and want more control over their container management.\\n\\n**7. Licensing:**\\n\\t* Docker offers both free and paid versions of its software, with a subscription-based model for advanced features.\\n\\t* Podman is an open-source project, making it completely free to use, modify, and distribute.\\n\\nIn summary:\\n\\n* Docker is a widely adopted, feature-rich containerization platform with a strong reputation in the industry, but may have some security concerns.\\n* Podman is an open-source, lightweight alternative that prioritizes security and compatibility with standard container formats. It's gaining popularity among developers who value flexibility and control over their container management.\\n\\nWhen deciding between Docker and Podman, consider your specific use case, security requirements, and the need for compatibility with other tools and platforms.\""
      ]
     },
     "execution_count": 16,
     "metadata": {},
     "output_type": "execute_result"
    }
   ],
   "source": [
    "llm(\"What's the diference between docker and podman\")"
   ]
  },
  {
   "cell_type": "code",
   "execution_count": 8,
   "id": "c7b64fe8-056e-4136-9b79-651d9ac505fd",
   "metadata": {},
   "outputs": [
    {
     "data": {
      "text/plain": [
       "' Docker and Podman are both containerization tools used for creating, managing, and running containers on Linux. While they share some similarities in functionality and use cases, there are also notable differences that set them apart:\\n\\n1. Operating System Dependency: One of the major differentiators between Docker and Podman is their dependency on a daemon to run containerized applications. \\n   - Docker requires an external CRI-Compatible Runtime (CRI) such as containerd or rkt, which acts as its runtime engine for running containers. This means that you need both Docker Engine and the compatible underlying runtime installed when using Docker CLI commands on Linux systems. As of late October 2019, Docker is no longer bundled with a daemon by default; it uses external runtimes instead unless one explicitly installs `dockerd`.\\n   - Podman does not require an extra CRI or daemon since its own runtime engine allows containers to be managed and executed without the need for another container management system. This feature is what led Docker\\'s creator, Solomon Hykes, to describe it as \"a daemonic-less software.\"\\n   \\n2. User Mode Operation: Podman also distinguishes itself by running in user mode instead of kernel mode on Linux systems (or any other supported OS). Running the container management system without root privileges means that users can perform most common Docker tasks, like building images and starting containers, as non-root or unprivileged users. This helps reduce potential security risks associated with elevated privilege processes while also providing better resource control capabilities for both developers and operations teams when running multiple applications on the same host system (on Linux systems).\\n   - Docker\\'s latest versions have introduced a similar capability called non-root containers, but as of early 2022, this feature is not universally enabled in all distributions. Additionally, there are still some compatibility and performance issues when using these images with various applications or services running on the same host system (on Linux systems).\\n   \\n3. Command Line Interface: Although Docker\\'s CLI commands have been designed to be consistent across different versions of its software suite while being extensible for users who need more advanced features, Podman provides a native and simplified command line interface that mimics Docker’s own functionality but does not require an external runtime engine or daemon. The main advantages here are speed (due to lacking the overhead involved in using containers on top of another container-based system like `dockerd`), user privacy, as well as consistency between running commands inside and outside a shell environment when it comes to interacting with Podman objects directly from Bash scripts or other scripting languages.\\n   \\n4. Compatibility: Both tools are designed to be compatible with the vast majority of existing Docker images created before their introduction; hence, both offer seamless migration options for users who already have a large repository of built containers and related resources (e.g., custom scripts or configuration files). In terms of software compatibility in general though – beyond just being able to run older containerized applications without issues - Podman\\'s CLI commands closely match those from Docker, with little effort required by developers moving between the two projects during their ongoing development cycle while still gaining all benefits (if not more) that come along when switching entirely over.\\n   \\n5. License: Another notable difference is in how both software packages are licensed; as of 2023 Docker Enterprise Edition - which includes full support for production environments and multi-user clusters, among other features like network isolation using VXLANs (Virtual Extensible LAN) or Mesh Networking protocols)-is proprietary commercialized software by the company named HashiCorp; whereas Podman is released under The Linux Foundation\\'s \"License to License,\" making it free for individual developers and organizations alike. This open-source nature ensures broad accessibility, transparency in terms of code changes (for potential future improvements), as well providing greater freedom from vendor lock-in issues that might arise when using proprietary tools like Docker Enterprise Edition - which currently requires annual subscription fees or licensing costs to maintain its services and functionalities.\\n   \\nIn summary, these differences between Podman versus traditional Docker largely revolve around user permissions (privilege), running containers with non-root users in mind while reducing the dependency on external runtime engines/daemons within Linux environments; simplifying CLI commands for improved ease of use along with preserving backward compatibility and portability when migrating containerized applications between projects or systems.'"
      ]
     },
     "execution_count": 8,
     "metadata": {},
     "output_type": "execute_result"
    }
   ],
   "source": [
    "llm(\"What's the diference between docker and podman\")"
   ]
  },
  {
   "cell_type": "code",
   "execution_count": 7,
   "id": "188dabb4-143f-4baf-929a-a8277b53440b",
   "metadata": {},
   "outputs": [
    {
     "name": "stdout",
     "output_type": "stream",
     "text": [
      "\n"
     ]
    }
   ],
   "source": [
    "print(_)"
   ]
  }
 ],
 "metadata": {
  "kernelspec": {
   "display_name": "Python 3 (ipykernel)",
   "language": "python",
   "name": "python3"
  },
  "language_info": {
   "codemirror_mode": {
    "name": "ipython",
    "version": 3
   },
   "file_extension": ".py",
   "mimetype": "text/x-python",
   "name": "python",
   "nbconvert_exporter": "python",
   "pygments_lexer": "ipython3",
   "version": "3.11.9"
  }
 },
 "nbformat": 4,
 "nbformat_minor": 5
}
